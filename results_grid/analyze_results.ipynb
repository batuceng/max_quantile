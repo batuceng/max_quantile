{
 "cells": [
  {
   "cell_type": "code",
   "execution_count": null,
   "metadata": {},
   "outputs": [
    {
     "ename": "ValueError",
     "evalue": "not enough values to unpack (expected 2, got 1)",
     "output_type": "error",
     "traceback": [
      "\u001b[0;31m---------------------------------------------------------------------------\u001b[0m",
      "\u001b[0;31mValueError\u001b[0m                                Traceback (most recent call last)",
      "Cell \u001b[0;32mIn[1], line 22\u001b[0m\n\u001b[1;32m     20\u001b[0m \u001b[38;5;28;01mfor\u001b[39;00m line_num,line \u001b[38;5;129;01min\u001b[39;00m \u001b[38;5;28menumerate\u001b[39m(log_file):\n\u001b[1;32m     21\u001b[0m     \u001b[38;5;28;01mif\u001b[39;00m line_num \u001b[38;5;241m%\u001b[39m \u001b[38;5;241m4\u001b[39m \u001b[38;5;241m==\u001b[39m (\u001b[38;5;241m2\u001b[39m\u001b[38;5;241m-\u001b[39m\u001b[38;5;241m1\u001b[39m): \u001b[38;5;66;03m# cov_value,pinaw_value\u001b[39;00m\n\u001b[0;32m---> 22\u001b[0m         cov_value, pinaw_value \u001b[38;5;241m=\u001b[39m line\u001b[38;5;241m.\u001b[39msplit(\u001b[38;5;124m\"\u001b[39m\u001b[38;5;124m,\u001b[39m\u001b[38;5;124m\"\u001b[39m)\n\u001b[1;32m     23\u001b[0m         cov_values_90\u001b[38;5;241m.\u001b[39mappend(\u001b[38;5;28mfloat\u001b[39m(cov_value))\n\u001b[1;32m     24\u001b[0m         pinaw_values_90\u001b[38;5;241m.\u001b[39mappend(\u001b[38;5;28mfloat\u001b[39m(pinaw_value))\n",
      "\u001b[0;31mValueError\u001b[0m: not enough values to unpack (expected 2, got 1)"
     ]
    }
   ],
   "source": [
    "import re\n",
    "import numpy as np\n",
    "\n",
    "# Path to your log file\n",
    "log_file_path = \"Unconditional_2d_data_outlier_100.log\"\n",
    "\n",
    "# Initialize lists to store the extracted values for each metric\n",
    "cov_values_90 = []\n",
    "cov_values_50 = []\n",
    "cov_values_10 = []\n",
    "\n",
    "\n",
    "pinaw_values_90 = []\n",
    "pinaw_values_50 = []\n",
    "pinaw_values_10 = []\n",
    "\n",
    "# Open the log file\n",
    "with open(log_file_path, \"r\") as log_file:\n",
    "    # Read the log file line by line\n",
    "    for line_num,line in enumerate(log_file):\n",
    "        if line_num % 5 == (2): # cov_value,pinaw_value\n",
    "            cov_value, pinaw_value = line.split(\",\")\n",
    "            cov_values_90.append(float(cov_value))\n",
    "            pinaw_values_90.append(float(pinaw_value))\n",
    "        elif line_num % 5 == (3):\n",
    "            cov_value, pinaw_value = line.split(\",\")\n",
    "            cov_values_50.append(float(cov_value))\n",
    "            pinaw_values_50.append(float(pinaw_value))\n",
    "            \n",
    "        elif line_num % 5 == (4):\n",
    "            cov_value, pinaw_value = line.split(\",\")\n",
    "            cov_values_10.append(float(cov_value))\n",
    "            pinaw_values_10.append(float(pinaw_value))\n",
    "\n",
    "# Calculate the mean and standard deviation for each metric\n",
    "cov_values_90 = np.array(cov_values_90)\n",
    "cov_values_50 = np.array(cov_values_50)\n",
    "cov_values_10 = np.array(cov_values_10)\n",
    "\n",
    "pinaw_values_90 = np.array(pinaw_values_90)\n",
    "pinaw_values_50 = np.array(pinaw_values_50)\n",
    "pinaw_values_10 = np.array(pinaw_values_10)\n",
    "\n",
    "print(\"{:.2f},{:.2f}\".format(np.mean(cov_values_90), np.std(cov_values_90)))\n",
    "print(\"{:.2f},{:.2f}\".format(np.mean(pinaw_values_90), np.std(pinaw_values_90)))\n",
    "\n",
    "\n",
    "print(\"{:.2f},{:.2f}\".format(np.mean(cov_values_50), np.std(cov_values_50)))\n",
    "print(\" {:.2f},{:.2f}\".format(np.mean(pinaw_values_50), np.std(pinaw_values_50)))\n",
    "\n",
    "print(\"{:.2f},{:.2f}\".format(np.mean(cov_values_10), np.std(cov_values_10)))\n",
    "print(\"{:.2f},{:.2f}\".format(np.mean(pinaw_values_10), np.std(pinaw_values_10)))\n",
    "\n",
    "\n",
    "        \n"
   ]
  },
  {
   "cell_type": "code",
   "execution_count": null,
   "metadata": {},
   "outputs": [],
   "source": []
  }
 ],
 "metadata": {
  "kernelspec": {
   "display_name": "R2CCP",
   "language": "python",
   "name": "python3"
  },
  "language_info": {
   "codemirror_mode": {
    "name": "ipython",
    "version": 3
   },
   "file_extension": ".py",
   "mimetype": "text/x-python",
   "name": "python",
   "nbconvert_exporter": "python",
   "pygments_lexer": "ipython3",
   "version": "3.11.9"
  }
 },
 "nbformat": 4,
 "nbformat_minor": 2
}
