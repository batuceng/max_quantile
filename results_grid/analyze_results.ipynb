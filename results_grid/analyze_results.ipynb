{
 "cells": [
  {
   "cell_type": "code",
   "execution_count": 4,
   "metadata": {},
   "outputs": [
    {
     "name": "stdout",
     "output_type": "stream",
     "text": [
      "Coverage 90%: mean = 0.91, std = 0.01\n",
      "Coverage 50%: mean = 0.50, std = 0.02\n",
      "Coverage 10%: mean = 0.10, std = 0.01\n",
      "PINAW 90%: mean = 2.23, std = 0.07\n",
      "PINAW 50%: mean = 0.60, std = 0.04\n",
      "PINAW 10%: mean = 0.12, std = 0.01\n"
     ]
    }
   ],
   "source": [
    "import re\n",
    "import numpy as np\n",
    "\n",
    "# Path to your log file\n",
    "log_file_path = \"bike_sharing.log\"\n",
    "\n",
    "# Initialize lists to store the extracted values for each metric\n",
    "cov_values_90 = []\n",
    "cov_values_50 = []\n",
    "cov_values_10 = []\n",
    "\n",
    "\n",
    "pinaw_values_90 = []\n",
    "pinaw_values_50 = []\n",
    "pinaw_values_10 = []\n",
    "\n",
    "# Open the log file\n",
    "with open(log_file_path, \"r\") as log_file:\n",
    "    # Read the log file line by line\n",
    "    for line_num,line in enumerate(log_file):\n",
    "        if line_num % 5 == 2: # cov_value,pinaw_value\n",
    "            cov_value, pinaw_value = line.split(\",\")\n",
    "            cov_values_90.append(float(cov_value))\n",
    "            pinaw_values_90.append(float(pinaw_value))\n",
    "        elif line_num % 5 == 3:\n",
    "            cov_value, pinaw_value = line.split(\",\")\n",
    "            cov_values_50.append(float(cov_value))\n",
    "            pinaw_values_50.append(float(pinaw_value))\n",
    "            \n",
    "        elif line_num % 5 == 4:\n",
    "            cov_value, pinaw_value = line.split(\",\")\n",
    "            cov_values_10.append(float(cov_value))\n",
    "            pinaw_values_10.append(float(pinaw_value))\n",
    "\n",
    "# Calculate the mean and standard deviation for each metric\n",
    "cov_values_90 = np.array(cov_values_90)\n",
    "cov_values_50 = np.array(cov_values_50)\n",
    "cov_values_10 = np.array(cov_values_10)\n",
    "\n",
    "pinaw_values_90 = np.array(pinaw_values_90)\n",
    "pinaw_values_50 = np.array(pinaw_values_50)\n",
    "pinaw_values_10 = np.array(pinaw_values_10)\n",
    "\n",
    "print(\"{:.2f},{:.2f}\".format(np.mean(cov_values_90), np.std(cov_values_90)))\n",
    "print(\"{:.2f},{:.2f}\".format(np.mean(pinaw_values_90), np.std(pinaw_values_90)))\n",
    "\n",
    "\n",
    "print(\"{:.2f},{:.2f}\".format(np.mean(cov_values_50), np.std(cov_values_50)))\n",
    "print(\" {:.2f},{:.2f}\".format(np.mean(pinaw_values_50), np.std(pinaw_values_50)))\n",
    "\n",
    "print(\"{:.2f},{:.2f}\".format(np.mean(cov_values_10), np.std(cov_values_10)))\n",
    "print(\"{:.2f},{:.2f}\".format(np.mean(pinaw_values_10), np.std(pinaw_values_10)))\n",
    "\n",
    "\n",
    "        \n"
   ]
  },
  {
   "cell_type": "code",
   "execution_count": null,
   "metadata": {},
   "outputs": [],
   "source": []
  }
 ],
 "metadata": {
  "kernelspec": {
   "display_name": "R2CCP",
   "language": "python",
   "name": "python3"
  },
  "language_info": {
   "codemirror_mode": {
    "name": "ipython",
    "version": 3
   },
   "file_extension": ".py",
   "mimetype": "text/x-python",
   "name": "python",
   "nbconvert_exporter": "python",
   "pygments_lexer": "ipython3",
   "version": "3.11.9"
  }
 },
 "nbformat": 4,
 "nbformat_minor": 2
}
