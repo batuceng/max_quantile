{
 "cells": [
  {
   "cell_type": "code",
   "execution_count": 1,
   "metadata": {},
   "outputs": [
    {
     "name": "stdout",
     "output_type": "stream",
     "text": [
      "{'uci_id': 165, 'name': 'Concrete Compressive Strength', 'repository_url': 'https://archive.ics.uci.edu/dataset/165/concrete+compressive+strength', 'data_url': 'https://archive.ics.uci.edu/static/public/165/data.csv', 'abstract': 'Concrete is the most important material in civil engineering. The concrete compressive strength is a highly nonlinear function of age and ingredients. ', 'area': 'Physics and Chemistry', 'tasks': ['Regression'], 'characteristics': ['Multivariate'], 'num_instances': 1030, 'num_features': 8, 'feature_types': ['Real'], 'demographics': [], 'target_col': ['Concrete compressive strength'], 'index_col': None, 'has_missing_values': 'no', 'missing_values_symbol': None, 'year_of_dataset_creation': 1998, 'last_updated': 'Sun Feb 11 2024', 'dataset_doi': '10.24432/C5PK67', 'creators': ['I-Cheng Yeh'], 'intro_paper': {'title': 'Modeling of strength of high-performance concrete using artificial neural networks', 'authors': 'I. Yeh', 'published_in': 'Cement and Concrete Research, Vol. 28, No. 12', 'year': 1998, 'url': 'https://www.semanticscholar.org/paper/9310cae70452ea11465f338483e79cc36a68881c', 'doi': '10.1016/S0008-8846(98)00165-3'}, 'additional_info': {'summary': 'Number of instances \\t1030\\r\\nNumber of Attributes\\t9\\r\\nAttribute breakdown\\t8 quantitative input variables, and 1 quantitative output variable\\r\\nMissing Attribute Values\\tNone \\r\\n', 'purpose': None, 'funded_by': None, 'instances_represent': None, 'recommended_data_splits': None, 'sensitive_data': None, 'preprocessing_description': None, 'variable_info': 'Given are the variable name, variable type, the measurement unit and a brief description. The concrete compressive strength is the regression problem. The order of this listing corresponds to the order of numerals along the rows of the database. \\r\\n\\r\\nName -- Data Type -- Measurement -- Description\\r\\n\\r\\nCement (component 1) -- quantitative -- kg in a m3 mixture -- Input Variable\\r\\nBlast Furnace Slag (component 2) -- quantitative -- kg in a m3 mixture -- Input Variable\\r\\nFly Ash (component 3) -- quantitative  -- kg in a m3 mixture -- Input Variable\\r\\nWater  (component 4) -- quantitative  -- kg in a m3 mixture -- Input Variable\\r\\nSuperplasticizer (component 5) -- quantitative -- kg in a m3 mixture -- Input Variable\\r\\nCoarse Aggregate  (component 6) -- quantitative -- kg in a m3 mixture -- Input Variable\\r\\nFine Aggregate (component 7)\\t -- quantitative  -- kg in a m3 mixture -- Input Variable\\r\\nAge -- quantitative  -- Day (1~365) -- Input Variable\\r\\nConcrete compressive strength -- quantitative -- MPa -- Output Variable\\r\\n\\r\\n', 'citation': None}}\n",
      "                            name     role        type demographic description  \\\n",
      "0                         Cement  Feature  Continuous        None        None   \n",
      "1             Blast Furnace Slag  Feature     Integer        None        None   \n",
      "2                        Fly Ash  Feature  Continuous        None        None   \n",
      "3                          Water  Feature  Continuous        None        None   \n",
      "4               Superplasticizer  Feature  Continuous        None        None   \n",
      "5               Coarse Aggregate  Feature  Continuous        None        None   \n",
      "6                 Fine Aggregate  Feature  Continuous        None        None   \n",
      "7                            Age  Feature     Integer        None        None   \n",
      "8  Concrete compressive strength   Target  Continuous        None        None   \n",
      "\n",
      "    units missing_values  \n",
      "0  kg/m^3             no  \n",
      "1  kg/m^3             no  \n",
      "2  kg/m^3             no  \n",
      "3  kg/m^3             no  \n",
      "4  kg/m^3             no  \n",
      "5  kg/m^3             no  \n",
      "6  kg/m^3             no  \n",
      "7     day             no  \n",
      "8     MPa             no  \n"
     ]
    }
   ],
   "source": [
    "from ucimlrepo import fetch_ucirepo \n",
    "import numpy as np\n",
    "# fetch dataset \n",
    "concrete_compressive_strength = fetch_ucirepo(id=165) \n",
    "  \n",
    "# data (as pandas dataframes) \n",
    "X = np.array(concrete_compressive_strength.data.features )\n",
    "y = np.array(concrete_compressive_strength.data.targets) \n",
    "  \n",
    "# metadata \n",
    "print(concrete_compressive_strength.metadata) \n",
    "  \n",
    "# variable information \n",
    "print(concrete_compressive_strength.variables) \n"
   ]
  },
  {
   "cell_type": "code",
   "execution_count": 2,
   "metadata": {},
   "outputs": [],
   "source": [
    "# normalize the data\n",
    "from sklearn.preprocessing import StandardScaler\n",
    "scaler = StandardScaler()\n",
    "X = scaler.fit_transform(X)\n",
    "\n",
    "# split the data\n",
    "from sklearn.model_selection import train_test_split\n",
    "X_train, X_test, y_train, y_test = train_test_split(X, y, test_size=0.2, random_state=0)\n",
    "\n",
    "# split test to calibration and test\n",
    "X_cal, X_test, y_cal, y_test = train_test_split(X_test, y_test, test_size=0.5, random_state=0)"
   ]
  },
  {
   "cell_type": "code",
   "execution_count": 3,
   "metadata": {},
   "outputs": [
    {
     "data": {
      "image/png": "[encoded data removed]",
      "text/plain": [
       "<Figure size 640x480 with 1 Axes>"
      ]
     },
     "metadata": {},
     "output_type": "display_data"
    }
   ],
   "source": [
    "import matplotlib.pyplot as plt\n",
    "\n",
    "# Get Y Centers\n",
    "plt.figure()\n",
    "plt.title(\"Marginal Y Dist\")\n",
    "Y_bin_count = 50\n",
    "Y_hist = plt.hist(y_train, bins=Y_bin_count, density=True, alpha=0.6, color='gray', label='Data')\n",
    "y_train_digital_labels = np.fmin(np.digitize(y_train, Y_hist[1]), Y_bin_count)\n",
    "def moving_average(a, n=2):\n",
    "    ret = np.cumsum(a, dtype=float)\n",
    "    ret[n:] = ret[n:] - ret[:-n]\n",
    "    return ret[n - 1:] / n\n",
    "proto_centers = moving_average(Y_hist[1], n=2)"
   ]
  },
  {
   "cell_type": "code",
   "execution_count": 4,
   "metadata": {},
   "outputs": [
    {
     "data": {
      "text/plain": [
       "(103, 8)"
      ]
     },
     "execution_count": 4,
     "metadata": {},
     "output_type": "execute_result"
    }
   ],
   "source": [
    "X_cal.shape"
   ]
  },
  {
   "cell_type": "code",
   "execution_count": 5,
   "metadata": {},
   "outputs": [
    {
     "name": "stdout",
     "output_type": "stream",
     "text": [
      "CUDA device =  NVIDIA TITAN RTX\n",
      "Available number of devices =  1\n",
      "Device numbers              =  [0]\n",
      "Current device              =  0\n",
      "Using device: cuda:0\n"
     ]
    }
   ],
   "source": [
    "import torch\n",
    "\n",
    "def get_cuda_summary(memory=False):\n",
    "    if torch.cuda.is_available():\n",
    "        print('CUDA device = ', torch.cuda.get_device_name())\n",
    "        print('Available number of devices = ', torch.cuda.device_count())\n",
    "        print('Device numbers              = ', list(range(torch.cuda.device_count())))\n",
    "        print('Current device              = ', torch.cuda.current_device())\n",
    "        if memory:\n",
    "            print(torch.cuda.memory_summary())\n",
    "    else:\n",
    "        print('CUDA is not available')\n",
    "\n",
    "# Check CUDA summary\n",
    "get_cuda_summary()\n",
    "\n",
    "# Set up device\n",
    "if torch.cuda.is_available():\n",
    "    if torch.cuda.device_count() > 1:\n",
    "        device = torch.device('cuda:1')  # Prefer cuda:1 if available\n",
    "    else:\n",
    "        device = torch.device('cuda:0')  # Fallback to cuda:0 if only one CUDA device is available\n",
    "else:\n",
    "    device = torch.device('cpu')  # Fallback to CPU if CUDA is not available\n",
    "\n",
    "torch.cuda.set_device(device) if torch.cuda.is_available() else None\n",
    "\n",
    "print(f\"Using device: {device}\")\n"
   ]
  },
  {
   "cell_type": "code",
   "execution_count": 6,
   "metadata": {},
   "outputs": [],
   "source": [
    "from torch import nn\n",
    "import torch \n",
    "\n",
    "\n",
    "\n",
    "class ConditionalClassifier(nn.Module):\n",
    "    def __init__(self, in_size = 8, no_of_classes=50):\n",
    "        super(ConditionalClassifier, self).__init__()\n",
    "        self.in_size = in_size\n",
    "        self.no_of_classes = no_of_classes\n",
    "        self.hidden_size = 256\n",
    "        self.net = nn.Sequential(\n",
    "            nn.Linear(self.in_size, self.hidden_size),\n",
    "            nn.ReLU(),\n",
    "            nn.Linear(self.hidden_size, self.hidden_size),\n",
    "            nn.ReLU(),\n",
    "            nn.Linear(self.hidden_size, self.no_of_classes),\n",
    "        )\n",
    "        \n",
    "    def forward(self, x):\n",
    "        x = self.net(x)\n",
    "        return x"
   ]
  },
  {
   "cell_type": "code",
   "execution_count": 19,
   "metadata": {},
   "outputs": [],
   "source": [
    "model = ConditionalClassifier().to(device)\n",
    "criterion = nn.CrossEntropyLoss()\n",
    "\n",
    "optimizer = torch.optim.Adam(params=model.parameters(), lr=3e-4)\n",
    "train_x = torch.tensor(X_train).to(torch.float).to(device)\n",
    "train_y = torch.tensor(y_train_digital_labels-1, dtype=torch.long).to(device)"
   ]
  },
  {
   "cell_type": "code",
   "execution_count": 20,
   "metadata": {},
   "outputs": [
    {
     "name": "stdout",
     "output_type": "stream",
     "text": [
      "epoch 1 loss=3.921\n",
      "epoch 100 loss=2.867\n",
      "epoch 200 loss=2.206\n",
      "epoch 300 loss=1.641\n",
      "epoch 400 loss=1.177\n",
      "epoch 500 loss=0.8354\n",
      "epoch 600 loss=0.6029\n",
      "epoch 700 loss=0.4489\n",
      "epoch 800 loss=0.3468\n",
      "epoch 900 loss=0.2773\n",
      "epoch 1000 loss=0.2278\n",
      "epoch 1100 loss=0.1912\n",
      "epoch 1200 loss=0.163\n",
      "epoch 1300 loss=0.1408\n",
      "epoch 1400 loss=0.1228\n",
      "epoch 1500 loss=0.1083\n",
      "epoch 1600 loss=0.09641\n",
      "epoch 1700 loss=0.08661\n",
      "epoch 1800 loss=0.07841\n",
      "epoch 1900 loss=0.07153\n",
      "epoch 2000 loss=0.06564\n",
      "epoch 2100 loss=0.06068\n",
      "epoch 2200 loss=0.05643\n",
      "epoch 2300 loss=0.05273\n",
      "epoch 2400 loss=0.04951\n",
      "epoch 2500 loss=0.04669\n",
      "epoch 2600 loss=0.04422\n",
      "epoch 2700 loss=0.04207\n",
      "epoch 2800 loss=0.04017\n",
      "epoch 2900 loss=0.03846\n",
      "epoch 3000 loss=0.03693\n",
      "epoch 3100 loss=0.03555\n",
      "epoch 3200 loss=0.03434\n",
      "epoch 3300 loss=0.0332\n",
      "epoch 3400 loss=0.03216\n",
      "epoch 3500 loss=0.0312\n",
      "epoch 3600 loss=0.03033\n",
      "epoch 3700 loss=0.02953\n",
      "epoch 3800 loss=0.02879\n",
      "epoch 3900 loss=0.02812\n",
      "epoch 4000 loss=0.02748\n",
      "epoch 4100 loss=0.02688\n",
      "epoch 4200 loss=0.02634\n",
      "epoch 4300 loss=0.02582\n",
      "epoch 4400 loss=0.02536\n",
      "epoch 4500 loss=0.02493\n",
      "epoch 4600 loss=0.02447\n",
      "epoch 4700 loss=0.02406\n",
      "epoch 4800 loss=0.02368\n",
      "epoch 4900 loss=0.02334\n",
      "epoch 5000 loss=0.02298\n"
     ]
    }
   ],
   "source": [
    "losses = []\n",
    "torch.manual_seed(0)\n",
    "for step in range(5000):\n",
    "    model.train()\n",
    "    #yq1, yq2, yq3 = model(x)\n",
    "    #loss = criterion(input=(yq1, yq2, yq3), target=y)\n",
    "    logits = model(train_x)\n",
    "    loss = criterion(logits, train_y.flatten())\n",
    "    losses.append(loss.data.item())\n",
    "    #print(yqs.shape, train_y_tr.shape)\n",
    "    optimizer.zero_grad()\n",
    "    loss.backward()\n",
    "    optimizer.step()\n",
    "\n",
    "    if (step==0) or ((step+1) % 100 == 0):\n",
    "        \"\"\"\n",
    "        Show your intermediate results\n",
    "        \"\"\"\n",
    "        print('epoch {} loss={:.4}'.format(step+1, loss.data.item()))\n",
    "        # Add acc\n",
    "        pass"
   ]
  },
  {
   "cell_type": "code",
   "execution_count": null,
   "metadata": {},
   "outputs": [],
   "source": [
    "losses = []\n",
    "torch.manual_seed(0)\n",
    "for step in range(5000):\n",
    "    model.train()\n",
    "    #yq1, yq2, yq3 = model(x)\n",
    "    #loss = criterion(input=(yq1, yq2, yq3), target=y)\n",
    "    logits = model(train_x)\n",
    "    loss = criterion(logits, train_y.flatten())\n",
    "    losses.append(loss.data.item())\n",
    "    #print(yqs.shape, train_y_tr.shape)\n",
    "    optimizer.zero_grad()\n",
    "    loss.backward()\n",
    "    optimizer.step()\n",
    "\n",
    "    if (step==0) or ((step+1) % 100 == 0):\n",
    "        \"\"\"\n",
    "        Show your intermediate results\n",
    "        \"\"\"\n",
    "        print('epoch {} loss={:.4}'.format(step+1, loss.data.item()))\n",
    "        pass"
   ]
  },
  {
   "cell_type": "code",
   "execution_count": 21,
   "metadata": {},
   "outputs": [
    {
     "data": {
      "text/plain": [
       "(50,)"
      ]
     },
     "execution_count": 21,
     "metadata": {},
     "output_type": "execute_result"
    }
   ],
   "source": [
    "\n",
    "import torch\n",
    "import numpy as np\n",
    "import torch.nn.functional as F\n",
    "\n",
    "train_x = torch.tensor(X_cal).to(torch.float).to(device)\n",
    "train_y = torch.tensor(y_train_digital_labels-1, dtype=torch.long).to(device)\n",
    "\n",
    "# yüzde kaç covarage istiyoz \n",
    "\n",
    "for alpha in [0.1,0.5,0.9]:\n",
    "# alpha = 0.9\n",
    "\n",
    "    model.eval()\n",
    "    with torch.no_grad():\n",
    "        cal_logits = model(cal_x)\n",
    "        cal_probs = F.softmax(cal_logits, dim=1)\n",
    "        true_class_probs = [cal_probs[i,cal_y[i]].cpu().item() for i in range(cal_probs.size(0))] \n",
    "        true_class_probs = np.array(true_class_probs)\n",
    "        # sort \n",
    "        sorted_true_class_probs = np.sort(true_class_probs)\n",
    "        p_score = np.quantile(sorted_true_class_probs, 1-alpha)\n",
    "        \n",
    "    # Ensure the model is in evaluation mode\n",
    "    model.eval()\n",
    "\n",
    "\n",
    "\n",
    "    # Feed the input tensor with value 0\n",
    "    input_tensor = torch.zeros(1, 1).to(device)  # Batch size of 1, input size of 1\n",
    "\n",
    "    # Generate model predictions\n",
    "    with torch.no_grad():  # Disable gradient calculation for inference\n",
    "        output_logits = model(input_tensor)\n",
    "\n",
    "    # Apply softmax to get the probability distribution over the output classes\n",
    "    # calculate_covarage\n",
    "    output_probs = torch.softmax(output_logits, dim=1).squeeze(0).cpu().numpy()\n",
    "    output_probs[output_probs > p_score] = 1\n",
    "    output_probs[output_probs < p_score] = 0\n",
    "\n",
    "\n",
    "    number_of_true = 0\n",
    "    for true_class in test_y:\n",
    "        number_of_true += output_probs[true_class]\n",
    "            \n",
    "    # covarage = number_of_true / all sample number \n",
    "\n",
    "    covarage = number_of_true / test_y.size(0)\n",
    "\n",
    "\n",
    "    output_probs_grid = output_probs.reshape(50, 50)\n",
    "\n",
    "    # how many of the goes in the area \n",
    "\n",
    "\n",
    "    # Use the pre-computed bin edges for X and Y (X_hist[1] and Y_hist[1])\n",
    "    x_edges = X_hist[1]  # Assuming X_hist[1] contains the bin edges for X\n",
    "    y_edges = Y_hist[1]  # Assuming Y_hist[1] contains the bin edges for Y\n",
    "\n",
    "    print(f\"covarage = {covarage * 100}\") \n",
    "    one_square_area = (x_edges - np.roll(x_edges,1))[1] * (y_edges - np.roll(y_edges,1))[1]\n",
    "    pinaw = (output_probs == 1).sum() * one_square_area\n",
    "    print(f\"pinaw = {pinaw}\")\n",
    "\n",
    "    # Plot the probability distribution over the 2D grid using the bin edges\n",
    "    fig = plt.figure(figsize=(8, 8))\n",
    "    ax = fig.add_subplot(1, 1, 1)  # nrows, ncols, index\n",
    "\n",
    "    # Get the colormap and set the color for under 0 values\n",
    "    cmap = plt.get_cmap('viridis')\n",
    "\n",
    "    # Set vmin to 0 to make sure the zero probability regions are colored\n",
    "    im = ax.imshow(output_probs_grid, extent=(x_edges[0], x_edges[-1], y_edges[0], y_edges[-1]), \n",
    "                origin='lower', cmap=cmap, vmin=0, vmax=output_probs_grid.max())\n",
    "\n",
    "    # Set the facecolor of the axes to the color corresponding to the lowest value in the colormap\n",
    "    ax.set_facecolor(cmap(0))  # This sets the background to the same color as the lowest probability\n",
    "\n",
    "    # Set the xlim and ylim with no extra background\n",
    "    plt.xlim(-7, 7)\n",
    "    plt.ylim(-7, 7)\n",
    "\n",
    "    # Add the colorbar and labels\n",
    "    plt.colorbar(im, ax=ax, label='Probability')\n",
    "    plt.title('Probability Distribution over the 2D Space')\n",
    "    plt.xlabel('X-axis')\n",
    "    plt.ylabel('Y-axis')\n",
    "\n",
    "    # Display proto centers\n",
    "    xx, yy = np.meshgrid(X_bin_centers, Y_bin_centers)\n",
    "    plt.scatter(xx.flatten(), yy.flatten(), marker='x', c='red', s=0.1)\n",
    "    plt.show()\n"
   ]
  }
 ],
 "metadata": {
  "kernelspec": {
   "display_name": "batu",
   "language": "python",
   "name": "python3"
  },
  "language_info": {
   "codemirror_mode": {
    "name": "ipython",
    "version": 3
   },
   "file_extension": ".py",
   "mimetype": "text/x-python",
   "name": "python",
   "nbconvert_exporter": "python",
   "pygments_lexer": "ipython3",
   "version": "3.8.13"
  }
 },
 "nbformat": 4,
 "nbformat_minor": 2
}
