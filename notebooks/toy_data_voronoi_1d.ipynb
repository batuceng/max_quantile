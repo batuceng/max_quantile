{
 "cells": [
  {
   "cell_type": "code",
   "execution_count": 1,
   "metadata": {},
   "outputs": [],
   "source": [
    "import numpy as np\n",
    "\n",
    "def boundary_clipped_voronoi_areas_1d(points, boundaries):\n",
    "    points = np.sort(points)\n",
    "    a, b = boundaries\n",
    "    n = len(points)\n",
    "    midpoints = (points[:-1] + points[1:]) / 2\n",
    "\n",
    "    clipped_lengths = []\n",
    "\n",
    "    for i in range(n):\n",
    "        if i == 0:\n",
    "            left = a\n",
    "            right = midpoints[0]\n",
    "        elif i == n - 1:\n",
    "            left = midpoints[-1]\n",
    "            right = b\n",
    "        else:\n",
    "            left = midpoints[i - 1]\n",
    "            right = midpoints[i]\n",
    "        # Clip to boundaries\n",
    "        left_clipped = max(left, a)\n",
    "        right_clipped = min(right, b)\n",
    "        length = max(0, right_clipped - left_clipped)\n",
    "        clipped_lengths.append(length)\n",
    "    return clipped_lengths"
   ]
  },
  {
   "cell_type": "code",
   "execution_count": 4,
   "metadata": {},
   "outputs": [
    {
     "name": "stdout",
     "output_type": "stream",
     "text": [
      "[2.0, 2.5, 4.5, 6.0]\n"
     ]
    }
   ],
   "source": [
    "points = [1, 3, 6, 12]\n",
    "boundaries = [0, 15]\n",
    "areas = boundary_clipped_voronoi_areas_1d(points, boundaries)\n",
    "print(areas)"
   ]
  },
  {
   "cell_type": "code",
   "execution_count": null,
   "metadata": {},
   "outputs": [],
   "source": []
  }
 ],
 "metadata": {
  "kernelspec": {
   "display_name": "R2CCP",
   "language": "python",
   "name": "python3"
  },
  "language_info": {
   "codemirror_mode": {
    "name": "ipython",
    "version": 3
   },
   "file_extension": ".py",
   "mimetype": "text/x-python",
   "name": "python",
   "nbconvert_exporter": "python",
   "pygments_lexer": "ipython3",
   "version": "3.11.9"
  }
 },
 "nbformat": 4,
 "nbformat_minor": 2
}
