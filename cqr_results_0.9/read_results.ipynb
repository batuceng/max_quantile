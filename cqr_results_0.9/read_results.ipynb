{
 "cells": [
  {
   "cell_type": "code",
   "execution_count": 3,
   "metadata": {},
   "outputs": [
    {
     "name": "stdout",
     "output_type": "stream",
     "text": [
      "0.90,0.01\n",
      "2.99,0.1830\n"
     ]
    }
   ],
   "source": [
    "import re\n",
    "import statistics\n",
    "\n",
    "def parse_results(file_path):\n",
    "    \"\"\"\n",
    "    Parses the results from the given file and computes mean and standard deviation\n",
    "    for Test Coverage and PINAW.\n",
    "\n",
    "    Args:\n",
    "        file_path (str): Path to the results text file.\n",
    "\n",
    "    Returns:\n",
    "        None\n",
    "    \"\"\"\n",
    "    # Initialize lists to store coverage and PINAW values\n",
    "    coverage_list = []\n",
    "    pinaw_list = []\n",
    "\n",
    "    # Define regular expressions to match the desired lines\n",
    "    coverage_pattern = re.compile(r\"Test Coverage:\\s+(\\d+\\.\\d+)%\")\n",
    "    pinaw_pattern = re.compile(r\"PINAW:\\s+(\\d+\\.\\d+)\")\n",
    "\n",
    "    try:\n",
    "        with open(file_path, 'r') as file:\n",
    "            for line in file:\n",
    "                # Search for coverage\n",
    "                coverage_match = coverage_pattern.search(line)\n",
    "                if coverage_match:\n",
    "                    coverage = float(coverage_match.group(1))\n",
    "                    coverage_list.append(coverage)\n",
    "                    continue  # Move to the next line\n",
    "\n",
    "                # Search for PINAW\n",
    "                pinaw_match = pinaw_pattern.search(line)\n",
    "                if pinaw_match:\n",
    "                    pinaw = float(pinaw_match.group(1))\n",
    "                    pinaw_list.append(pinaw)\n",
    "                    continue  # Move to the next line\n",
    "\n",
    "        # Check if data was found\n",
    "        if not coverage_list:\n",
    "            print(\"No Test Coverage data found.\")\n",
    "            return\n",
    "        if not pinaw_list:\n",
    "            print(\"No PINAW data found.\")\n",
    "            return\n",
    "        if len(coverage_list) != len(pinaw_list):\n",
    "            print(\"Mismatch in number of coverage and PINAW entries.\")\n",
    "            return\n",
    "\n",
    "        # Compute mean and standard deviation\n",
    "        coverage_mean = statistics.mean(coverage_list) / 100\n",
    "        coverage_std = (statistics.stdev(coverage_list)) / 100 if len(coverage_list) > 1 else 0.0\n",
    "\n",
    "        pinaw_mean = statistics.mean(pinaw_list)\n",
    "        pinaw_std = statistics.stdev(pinaw_list) if len(pinaw_list) > 1 else 0.0\n",
    "\n",
    "        # Print the results in the desired format\n",
    "        print(f\"{coverage_mean:.2f},{coverage_std:.2f}\")\n",
    "        print(f\"{pinaw_mean:.2f},{pinaw_std:.4f}\")\n",
    "\n",
    "    except FileNotFoundError:\n",
    "        print(f\"Error: The file '{file_path}' does not exist.\")\n",
    "    except Exception as e:\n",
    "        print(f\"An error occurred: {e}\")\n",
    "\n",
    "if __name__ == \"__main__\":\n",
    "    # Specify the path to your results file\n",
    "    results_file = \"bike_sharing_cqr.txt\"  # Replace with your actual file path if different\n",
    "    parse_results(results_file)"
   ]
  },
  {
   "cell_type": "code",
   "execution_count": null,
   "metadata": {},
   "outputs": [],
   "source": []
  }
 ],
 "metadata": {
  "kernelspec": {
   "display_name": "R2CCP",
   "language": "python",
   "name": "python3"
  },
  "language_info": {
   "codemirror_mode": {
    "name": "ipython",
    "version": 3
   },
   "file_extension": ".py",
   "mimetype": "text/x-python",
   "name": "python",
   "nbconvert_exporter": "python",
   "pygments_lexer": "ipython3",
   "version": "3.11.9"
  }
 },
 "nbformat": 4,
 "nbformat_minor": 2
}
