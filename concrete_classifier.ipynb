{
 "cells": [
  {
   "cell_type": "code",
   "execution_count": 1,
   "metadata": {},
   "outputs": [
    {
     "name": "stdout",
     "output_type": "stream",
     "text": [
      "{'uci_id': 165, 'name': 'Concrete Compressive Strength', 'repository_url': 'https://archive.ics.uci.edu/dataset/165/concrete+compressive+strength', 'data_url': 'https://archive.ics.uci.edu/static/public/165/data.csv', 'abstract': 'Concrete is the most important material in civil engineering. The concrete compressive strength is a highly nonlinear function of age and ingredients. ', 'area': 'Physics and Chemistry', 'tasks': ['Regression'], 'characteristics': ['Multivariate'], 'num_instances': 1030, 'num_features': 8, 'feature_types': ['Real'], 'demographics': [], 'target_col': ['Concrete compressive strength'], 'index_col': None, 'has_missing_values': 'no', 'missing_values_symbol': None, 'year_of_dataset_creation': 1998, 'last_updated': 'Sun Feb 11 2024', 'dataset_doi': '10.24432/C5PK67', 'creators': ['I-Cheng Yeh'], 'intro_paper': {'title': 'Modeling of strength of high-performance concrete using artificial neural networks', 'authors': 'I. Yeh', 'published_in': 'Cement and Concrete Research, Vol. 28, No. 12', 'year': 1998, 'url': 'https://www.semanticscholar.org/paper/9310cae70452ea11465f338483e79cc36a68881c', 'doi': '10.1016/S0008-8846(98)00165-3'}, 'additional_info': {'summary': 'Number of instances \\t1030\\r\\nNumber of Attributes\\t9\\r\\nAttribute breakdown\\t8 quantitative input variables, and 1 quantitative output variable\\r\\nMissing Attribute Values\\tNone \\r\\n', 'purpose': None, 'funded_by': None, 'instances_represent': None, 'recommended_data_splits': None, 'sensitive_data': None, 'preprocessing_description': None, 'variable_info': 'Given are the variable name, variable type, the measurement unit and a brief description. The concrete compressive strength is the regression problem. The order of this listing corresponds to the order of numerals along the rows of the database. \\r\\n\\r\\nName -- Data Type -- Measurement -- Description\\r\\n\\r\\nCement (component 1) -- quantitative -- kg in a m3 mixture -- Input Variable\\r\\nBlast Furnace Slag (component 2) -- quantitative -- kg in a m3 mixture -- Input Variable\\r\\nFly Ash (component 3) -- quantitative  -- kg in a m3 mixture -- Input Variable\\r\\nWater  (component 4) -- quantitative  -- kg in a m3 mixture -- Input Variable\\r\\nSuperplasticizer (component 5) -- quantitative -- kg in a m3 mixture -- Input Variable\\r\\nCoarse Aggregate  (component 6) -- quantitative -- kg in a m3 mixture -- Input Variable\\r\\nFine Aggregate (component 7)\\t -- quantitative  -- kg in a m3 mixture -- Input Variable\\r\\nAge -- quantitative  -- Day (1~365) -- Input Variable\\r\\nConcrete compressive strength -- quantitative -- MPa -- Output Variable\\r\\n\\r\\n', 'citation': None}}\n",
      "                            name     role        type demographic description  \\\n",
      "0                         Cement  Feature  Continuous        None        None   \n",
      "1             Blast Furnace Slag  Feature     Integer        None        None   \n",
      "2                        Fly Ash  Feature  Continuous        None        None   \n",
      "3                          Water  Feature  Continuous        None        None   \n",
      "4               Superplasticizer  Feature  Continuous        None        None   \n",
      "5               Coarse Aggregate  Feature  Continuous        None        None   \n",
      "6                 Fine Aggregate  Feature  Continuous        None        None   \n",
      "7                            Age  Feature     Integer        None        None   \n",
      "8  Concrete compressive strength   Target  Continuous        None        None   \n",
      "\n",
      "    units missing_values  \n",
      "0  kg/m^3             no  \n",
      "1  kg/m^3             no  \n",
      "2  kg/m^3             no  \n",
      "3  kg/m^3             no  \n",
      "4  kg/m^3             no  \n",
      "5  kg/m^3             no  \n",
      "6  kg/m^3             no  \n",
      "7     day             no  \n",
      "8     MPa             no  \n"
     ]
    }
   ],
   "source": [
    "from ucimlrepo import fetch_ucirepo \n",
    "  \n",
    "# fetch dataset \n",
    "concrete_compressive_strength = fetch_ucirepo(id=165) \n",
    "  \n",
    "# data (as pandas dataframes) \n",
    "X = concrete_compressive_strength.data.features \n",
    "y = concrete_compressive_strength.data.targets \n",
    "  \n",
    "# metadata \n",
    "print(concrete_compressive_strength.metadata) \n",
    "  \n",
    "# variable information \n",
    "print(concrete_compressive_strength.variables) \n"
   ]
  },
  {
   "cell_type": "code",
   "execution_count": 2,
   "metadata": {},
   "outputs": [],
   "source": [
    "# normalize data \n",
    "from sklearn.model_selection import train_test_split\n",
    "from sklearn.preprocessing import StandardScaler,MinMaxScaler\n",
    "scaler = MinMaxScaler()\n",
    "X_scaled = scaler.fit_transform(X)\n",
    "\n",
    "# y_scaler = StandardScaler()\n",
    "# y_normalized = y_scaler.fit_transform(y.values.reshape(-1, 1)).flatten()\n",
    "\n",
    "X_train, X_test, y_train, y_test = train_test_split(X_scaled, y.values, test_size=0.3, random_state=42)"
   ]
  },
  {
   "cell_type": "code",
   "execution_count": 3,
   "metadata": {},
   "outputs": [],
   "source": [
    "import torch \n",
    "\n",
    "if torch.backends.mps.is_available():\n",
    "    device = \"mps\"\n",
    "    \n",
    "elif torch.cuda.is_available():\n",
    "    device = \"cuda\"\n",
    "\n",
    "else:\n",
    "    device = \"cpu\"    "
   ]
  },
  {
   "cell_type": "code",
   "execution_count": null,
   "metadata": {},
   "outputs": [],
   "source": []
  },
  {
   "cell_type": "code",
   "execution_count": 105,
   "metadata": {},
   "outputs": [
    {
     "data": {
      "image/png": "[encoded data removed]",
      "text/plain": [
       "<Figure size 640x480 with 1 Axes>"
      ]
     },
     "metadata": {},
     "output_type": "display_data"
    }
   ],
   "source": [
    "import pandas as pd\n",
    "import numpy as np\n",
    "import torch\n",
    "from torch import nn\n",
    "import os\n",
    "import matplotlib.pyplot as plt\n",
    "\n",
    "#os.environ['KMP_DUPLICATE_LIB_OK']='True'\n",
    "\n",
    "# data = pd.read_csv('/content/02_Linear_Regression_Model_Data.csv')\n",
    "y_train = y_train.flatten()\n",
    "y_test = y_test.flatten()\n",
    "hist, bin_edges, _ = plt.hist(y_train, bins='auto')  # arguments are passed to np.histogram\n",
    "# hist, bin_edges, _ = plt.hist(y_train, bins=30)  # arguments are passed to np.histogram\n",
    "class_digits = np.digitize(y_train, bin_edges) # Get the class of each point using histogram bins\n",
    "\n",
    "no_of_classes = bin_edges.shape[0]+1\n",
    "one_hots = np.zeros((y_train.size, no_of_classes))\n",
    "one_hots[np.arange(y_train.size), class_digits] = 1\n",
    "\n",
    "test_hots = np.zeros((y_test.size, no_of_classes))\n",
    "test_hots[np.arange(y_test.size), np.digitize(y_test, bin_edges)] = 1\n",
    "\n",
    "plt.title(\"Histogram with 'auto' bins\")\n",
    "plt.show()\n",
    "\n",
    "# Avoid copy data, just refer\n",
    "train_x_tr = torch.from_numpy(X_train.reshape([-1,8])).float()#torch.from_numpy(data['x'].values[:1000]).unsqueeze(dim=1).float()\n",
    "train_y_scalar = torch.from_numpy(y_train.reshape([-1,1])).float()#torch.from_numpy(data['y'].values[:1000]).unsqueeze(dim=1).float()\n",
    "train_y_tr = torch.from_numpy(one_hots.reshape([-1, no_of_classes])).float()#torch.from_numpy(data['y'].values[:1000]).unsqueeze(dim=1).float()\n",
    "\n",
    "test_x_tr = torch.from_numpy(X_test.reshape([-1,8])).float()#torch.from_numpy(data['x'].values[1000:]).unsqueeze(dim=1).float()\n",
    "test_y_scalar = torch.from_numpy(y_test.reshape([-1,1])).float()#torch.from_numpy(data['y'].values[1000:]).unsqueeze(dim=1).float()\n",
    "test_y_tr = torch.from_numpy(test_hots.reshape([-1, no_of_classes])).float()#torch.from_numpy(data['y'].values[1000:]).unsqueeze(dim=1).float()\n"
   ]
  },
  {
   "cell_type": "code",
   "execution_count": 65,
   "metadata": {},
   "outputs": [],
   "source": [
    "class QClassifier(torch.nn.Module):\n",
    "    def __init__(self, in_size=1, no_of_classes=55):\n",
    "        super(QClassifier,self).__init__()\n",
    "        self.in_size = in_size\n",
    "        self.out_size = no_of_classes\n",
    "\n",
    "        hidden_layer = 64\n",
    "\n",
    "        self.net = torch.nn.Sequential(\n",
    "            torch.nn.Linear(self.in_size, hidden_layer),\n",
    "            torch.nn.LeakyReLU(),\n",
    "\n",
    "            torch.nn.Linear(hidden_layer, hidden_layer),\n",
    "            # torch.nn.Dropout(p=0.9),\n",
    "            torch.nn.LeakyReLU(),\n",
    "\n",
    "            torch.nn.Linear(hidden_layer, self.out_size)\n",
    "            )\n",
    "\n",
    "    def forward(self,x):\n",
    "        return self.net(x)\n",
    "\n"
   ]
  },
  {
   "cell_type": "code",
   "execution_count": 94,
   "metadata": {},
   "outputs": [],
   "source": [
    "train_x_tr = train_x_tr.to(device)\n",
    "train_y_tr = train_y_tr.to(device)\n",
    "\n",
    "model = QClassifier(in_size=8, no_of_classes=no_of_classes).to(device)\n",
    "criterion = nn.CrossEntropyLoss()\n",
    "\n",
    "optimizer = torch.optim.AdamW(params=model.parameters(), lr=0.001,weight_decay=0.0001)"
   ]
  },
  {
   "cell_type": "code",
   "execution_count": 95,
   "metadata": {},
   "outputs": [
    {
     "data": {
      "text/plain": [
       "torch.Size([721, 8])"
      ]
     },
     "execution_count": 95,
     "metadata": {},
     "output_type": "execute_result"
    }
   ],
   "source": [
    "train_x_tr.shape"
   ]
  },
  {
   "cell_type": "code",
   "execution_count": 96,
   "metadata": {},
   "outputs": [
    {
     "name": "stdout",
     "output_type": "stream",
     "text": [
      "epoch 1 loss=3.466\n",
      "epoch 1000 loss=1.018\n",
      "epoch 2000 loss=0.4804\n"
     ]
    }
   ],
   "source": [
    "\n",
    "losses = []\n",
    "for step in range(2000):\n",
    "    model.train()\n",
    "    #yq1, yq2, yq3 = model(x)\n",
    "    #loss = criterion(input=(yq1, yq2, yq3), target=y)\n",
    "    logits = model(train_x_tr)\n",
    "    loss = criterion(logits, train_y_tr)\n",
    "    losses.append(loss.data.item())\n",
    "    #print(yqs.shape, train_y_tr.shape)\n",
    "    optimizer.zero_grad()\n",
    "    loss.backward()\n",
    "    optimizer.step()\n",
    "\n",
    "    if (step==0) or ((step+1) % 1000 == 0):\n",
    "        \"\"\"\n",
    "        Show your intermediate results\n",
    "        \"\"\"\n",
    "        print('epoch {} loss={:.4}'.format(step+1, loss.data.item()))\n",
    "        pass"
   ]
  },
  {
   "cell_type": "code",
   "execution_count": 97,
   "metadata": {},
   "outputs": [
    {
     "data": {
      "image/png": "[encoded data removed]",
      "text/plain": [
       "<Figure size 640x480 with 1 Axes>"
      ]
     },
     "metadata": {},
     "output_type": "display_data"
    }
   ],
   "source": [
    "import matplotlib.pyplot as plt \n",
    "import numpy as np\n",
    "\n",
    "\n",
    "min_val, max_val = 0,85\n",
    "intervals = np.array(list(zip([min_val, *bin_edges], [*bin_edges, max_val])))\n",
    "\n",
    "# plt.scatter(y_train,train_pred[:,1])\n",
    "\n",
    "model.eval()\n",
    "\n",
    "y_pred = model(train_x_tr.to(device))\n",
    "probs = y_pred.softmax(dim=1)\n",
    "\n",
    "sorted_pdf, sorted_indices = probs.detach().cpu().sort(dim=1, descending=True)\n",
    "sorted_cdf = sorted_pdf.cumsum(dim=1)\n",
    "tau = 0.001\n",
    "first_nth_indices = ((sorted_cdf >= tau)*1).argmax(dim=1)\n",
    "\n",
    "\n",
    "plt.plot(y_train,y_train, color='blue',alpha=0.5)\n",
    "\n",
    "for i in range(sorted_indices.shape[0]):\n",
    "        # print(sorted_indices[i][:first_nth_indices[i]+1])\n",
    "        prediction_set = sorted_indices[i, :first_nth_indices[i]+1]\n",
    "        for j in range(len(prediction_set)):\n",
    "                bar_max, bar_min = intervals[prediction_set[j]]\n",
    "                plt.bar(y_train[i], height= bar_max-bar_min, bottom=bar_min, width= 0.5 ,color='red', alpha=0.2)"
   ]
  },
  {
   "cell_type": "code",
   "execution_count": 98,
   "metadata": {},
   "outputs": [
    {
     "name": "stdout",
     "output_type": "stream",
     "text": [
      "PICP: 0.869625520110957, ACE: 0.868625520110957\n"
     ]
    }
   ],
   "source": [
    "true_count = 0\n",
    "\n",
    "gt = train_y_tr.argmax(dim=1).cpu()\n",
    "\n",
    "for i in range(sorted_indices.shape[0]):\n",
    "        # print(sorted_indices[i][:first_nth_indices[i]+1])\n",
    "        prediction_set = sorted_indices[i, :first_nth_indices[i]+1]\n",
    "        if gt[i] in prediction_set:\n",
    "                true_count += 1\n",
    "\n",
    "picp = true_count / sorted_indices.shape[0]\n",
    "ace = picp - tau\n",
    "print(f'PICP: {picp}, ACE: {ace}')"
   ]
  },
  {
   "cell_type": "code",
   "execution_count": 103,
   "metadata": {},
   "outputs": [
    {
     "data": {
      "image/png": "[encoded data removed]",
      "text/plain": [
       "<Figure size 640x480 with 1 Axes>"
      ]
     },
     "metadata": {},
     "output_type": "display_data"
    }
   ],
   "source": [
    "import matplotlib.pyplot as plt \n",
    "import numpy as np\n",
    "\n",
    "\n",
    "model.eval()\n",
    "y_pred = model(test_x_tr.to(device))\n",
    "probs = y_pred.softmax(dim=1)\n",
    "\n",
    "sorted_pdf, sorted_indices = probs.detach().cpu().sort(dim=1, descending=True)\n",
    "sorted_cdf = sorted_pdf.cumsum(dim=1)\n",
    "tau = 0.90\n",
    "first_nth_indices = ((sorted_cdf >= tau)*1).argmax(dim=1)\n",
    "\n",
    "\n",
    "plt.plot(y_test,y_test, color='blue',alpha=0.5)\n",
    "\n",
    "for i in range(sorted_indices.shape[0]):\n",
    "        # print(sorted_indices[i][:first_nth_indices[i]+1])\n",
    "        prediction_set = sorted_indices[i, :first_nth_indices[i]+1]\n",
    "        for j in range(len(prediction_set)):\n",
    "                bar_max, bar_min = intervals[prediction_set[j]]\n",
    "                plt.bar(y_test[i], height= bar_max-bar_min, bottom=bar_min, width= 0.5 ,color='red', alpha=0.2)"
   ]
  },
  {
   "cell_type": "code",
   "execution_count": 104,
   "metadata": {},
   "outputs": [
    {
     "name": "stdout",
     "output_type": "stream",
     "text": [
      "PICP: 0.5210355987055016, ACE: -0.3789644012944984\n"
     ]
    }
   ],
   "source": [
    "true_count = 0\n",
    "\n",
    "gt = test_y_tr.argmax(dim=1)\n",
    "\n",
    "for i in range(sorted_indices.shape[0]):\n",
    "        # print(sorted_indices[i][:first_nth_indices[i]+1])\n",
    "        prediction_set = sorted_indices[i, :first_nth_indices[i]+1]\n",
    "        if gt[i] in prediction_set:\n",
    "                true_count += 1\n",
    "\n",
    "picp = true_count / sorted_indices.shape[0]\n",
    "ace = picp - tau\n",
    "print(f'PICP: {picp}, ACE: {ace}')"
   ]
  },
  {
   "cell_type": "code",
   "execution_count": 73,
   "metadata": {},
   "outputs": [
    {
     "data": {
      "text/plain": [
       "tensor([[16, 14, 19,  ...,  4,  2,  3],\n",
       "        [13,  8, 17,  ...,  2,  4,  1],\n",
       "        [26, 22, 29,  ...,  2,  4,  1],\n",
       "        ...,\n",
       "        [10, 14, 11,  ...,  3,  5,  1],\n",
       "        [13, 16, 12,  ..., 31, 29,  1],\n",
       "        [20, 23, 18,  ...,  4,  2,  1]])"
      ]
     },
     "execution_count": 73,
     "metadata": {},
     "output_type": "execute_result"
    }
   ],
   "source": [
    "sorted_indices"
   ]
  },
  {
   "cell_type": "code",
   "execution_count": 74,
   "metadata": {},
   "outputs": [
    {
     "data": {
      "text/plain": [
       "tensor([ 5, 10,  7,  7,  2,  6,  5,  6,  7,  5,  5,  4,  7,  4,  4,  4,  4,  6,\n",
       "         4,  7,  7,  4,  3,  3,  8,  5,  2,  6,  4,  5,  5,  5,  2,  2,  6,  4,\n",
       "         6,  7,  4,  6,  4,  3,  4,  6,  4,  4,  8,  3,  3,  4,  5,  6,  4,  5,\n",
       "         2,  8,  4,  3,  4,  4,  6,  4,  6, 10,  6,  5,  3,  4,  6,  6,  3,  5,\n",
       "         2,  5,  5,  4,  5,  5,  3,  3,  5,  6,  5,  3,  2,  7,  5,  5,  5,  4,\n",
       "         5,  3,  4,  3,  5,  5,  5,  8,  6,  5,  7,  7,  4,  7,  3,  2,  3,  4,\n",
       "         5,  2,  4,  3,  6,  3,  6,  4,  5,  2,  6,  5,  3,  5,  7,  5,  5,  5,\n",
       "         6,  9,  6,  4,  3,  6,  4,  3,  3,  3,  4,  5,  6,  1,  2,  3,  2,  5,\n",
       "         8,  5,  7,  4,  3,  4,  4,  0,  5,  3,  6,  4,  4,  3, 10,  7,  5,  5,\n",
       "         7,  1, 10,  6,  3,  6,  8,  5,  6,  6,  4,  2,  4,  4,  5,  4,  7,  5,\n",
       "         4,  5,  2,  5,  7,  4,  5,  6,  4,  4,  3,  7,  6,  4,  3,  7,  8,  0,\n",
       "         7,  5, 11,  4,  3,  9,  2,  5,  5,  7,  6,  3,  3,  6,  6,  6,  6,  2,\n",
       "         2,  3,  4,  8,  3,  6,  7,  4,  6,  4,  5,  6,  5,  4,  3,  4,  4,  6,\n",
       "         5,  5,  6,  4,  6,  4,  4,  3,  4,  6,  4,  5,  2,  6,  2,  2,  5,  5,\n",
       "         4,  7,  5,  6,  6,  3,  4,  6,  6,  3,  5,  4,  5,  3,  3,  5,  6,  2,\n",
       "         6,  3,  6,  4,  4, 10,  3,  6, 10,  4,  5,  4,  3,  5,  4,  6,  4,  6,\n",
       "        10,  3,  6,  5,  4,  4,  4,  7,  5,  6,  6,  1,  0,  4,  6,  7,  5,  5,\n",
       "         4,  5,  4])"
      ]
     },
     "execution_count": 74,
     "metadata": {},
     "output_type": "execute_result"
    }
   ],
   "source": [
    "first_nth_indices"
   ]
  },
  {
   "cell_type": "code",
   "execution_count": null,
   "metadata": {},
   "outputs": [],
   "source": []
  }
 ],
 "metadata": {
  "kernelspec": {
   "display_name": "torch",
   "language": "python",
   "name": "python3"
  },
  "language_info": {
   "codemirror_mode": {
    "name": "ipython",
    "version": 3
   },
   "file_extension": ".py",
   "mimetype": "text/x-python",
   "name": "python",
   "nbconvert_exporter": "python",
   "pygments_lexer": "ipython3",
   "version": "3.10.13"
  }
 },
 "nbformat": 4,
 "nbformat_minor": 2
}
