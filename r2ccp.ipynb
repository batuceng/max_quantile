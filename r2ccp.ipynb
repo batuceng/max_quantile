{
 "cells": [
  {
   "cell_type": "code",
   "execution_count": 1,
   "metadata": {},
   "outputs": [
    {
     "ename": "ModuleNotFoundError",
     "evalue": "No module named 'R2CCP'",
     "output_type": "error",
     "traceback": [
      "\u001b[0;31m---------------------------------------------------------------------------\u001b[0m",
      "\u001b[0;31mModuleNotFoundError\u001b[0m                       Traceback (most recent call last)",
      "Cell \u001b[0;32mIn[1], line 2\u001b[0m\n\u001b[1;32m      1\u001b[0m \u001b[38;5;66;03m# Import the model\u001b[39;00m\n\u001b[0;32m----> 2\u001b[0m \u001b[38;5;28;01mfrom\u001b[39;00m \u001b[38;5;21;01mR2CCP\u001b[39;00m\u001b[38;5;21;01m.\u001b[39;00m\u001b[38;5;21;01mmain\u001b[39;00m \u001b[38;5;28;01mimport\u001b[39;00m R2CCP\n\u001b[1;32m      3\u001b[0m \u001b[38;5;28;01mfrom\u001b[39;00m \u001b[38;5;21;01mdata\u001b[39;00m\u001b[38;5;21;01m.\u001b[39;00m\u001b[38;5;21;01mdataset\u001b[39;00m \u001b[38;5;28;01mimport\u001b[39;00m CustomDataset\n\u001b[1;32m      4\u001b[0m \u001b[38;5;28;01mimport\u001b[39;00m \u001b[38;5;21;01mnumpy\u001b[39;00m \u001b[38;5;28;01mas\u001b[39;00m \u001b[38;5;21;01mnp\u001b[39;00m\n",
      "\u001b[0;31mModuleNotFoundError\u001b[0m: No module named 'R2CCP'"
     ]
    }
   ],
   "source": [
    "# Import the model\n",
    "from R2CCP.main import R2CCP\n",
    "from data.dataset import CustomDataset\n",
    "import numpy as np\n",
    "import os\n",
    "\n",
    "dataset = \"Concrete_Compressive_Strength\"\n",
    "train_dataset = CustomDataset(f\"raw/{dataset}/all_data.npy\",mode=\"train\")\n",
    "X_train, y_train = train_dataset.data_x, train_dataset.data_y\n",
    "scaler_x, scaler_y = train_dataset.scaler_x, train_dataset.scaler_y\n",
    "cal_dataset = CustomDataset(f\"raw/{dataset}/all_data.npy\",mode=\"cal\")\n",
    "X_cal, y_cal = cal_dataset.data_x, cal_dataset.data_y\n",
    "# Instiantiate the model\n",
    "fname = \"logs/R2CCP/model_save_destination.pth\"\n",
    "if os.path.isfile(fname):\n",
    "    os.remove(fname)\n",
    "model = R2CCP({'model_path':'logs/R2CCP/model_save_destination.pth', 'max_epochs':1000,\n",
    "               'optimizer': 'adamw', 'lr':1e-4, 'weight_decay':1e-4,\n",
    "               'ffn_num_layers':4, 'ffn_hidden_dim':100,\n",
    "               'loss_weight':1., 'entropy_weight':0.2})\n",
    "# // model_path is where to save the trained model output (required parameter)\n",
    "\n",
    "# Fit against the data\n",
    "model.fit(X_train, y_train, X_cal, y_cal, scaler_x, scaler_y)\n",
    "\n",
    "\n",
    "test_dataset = CustomDataset(f\"raw/{dataset}/all_data.npy\",mode=\"test\")\n",
    "X_test, Y_test = test_dataset.data_x, test_dataset.data_y\n",
    "# Analyze the results\n",
    "intervals = model.get_intervals(X_test)\n",
    "coverage, length = model.get_coverage_length(X_test, Y_test)\n",
    "print(f\"R2CCP Original Code results - dataset:{dataset}\")\n",
    "print(f\"1-alpha:{0.90:.2f}, Coverage: {np.mean(coverage)}, Length: {np.mean(length)}\")\n",
    "\n",
    "# If you don't have labels, you can just use get_length\n",
    "length = model.get_length(X_test)\n",
    "\n",
    "# Get model predictions\n",
    "predictions = model.predict(X_test)\n",
    "\n",
    "# You can also change the desired coverage level\n",
    "model.set_coverage_level(.5)\n",
    "coverage, length = model.get_coverage_length(X_test, Y_test)\n",
    "print(f\"1-alpha:{0.50:.2f}, Coverage: {np.mean(coverage)}, Length: {np.mean(length)}\")\n",
    "\n",
    "# You can also change the desired coverage level\n",
    "model.set_coverage_level(.1)\n",
    "coverage, length = model.get_coverage_length(X_test, Y_test)\n",
    "print(f\"1-alpha:{0.10:.2f}, Coverage: {np.mean(coverage)}, Length: {np.mean(length)}\")\n"
   ]
  },
  {
   "cell_type": "code",
   "execution_count": null,
   "metadata": {},
   "outputs": [],
   "source": []
  }
 ],
 "metadata": {
  "kernelspec": {
   "display_name": "R2CCP",
   "language": "python",
   "name": "python3"
  },
  "language_info": {
   "codemirror_mode": {
    "name": "ipython",
    "version": 3
   },
   "file_extension": ".py",
   "mimetype": "text/x-python",
   "name": "python",
   "nbconvert_exporter": "python",
   "pygments_lexer": "ipython3",
   "version": "3.11.9"
  }
 },
 "nbformat": 4,
 "nbformat_minor": 2
}
