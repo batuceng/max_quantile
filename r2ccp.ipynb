{
 "cells": [
  {
   "cell_type": "code",
   "execution_count": 2,
   "metadata": {},
   "outputs": [
    {
     "name": "stderr",
     "output_type": "stream",
     "text": [
      "GPU available: True (cuda), used: True\n",
      "TPU available: False, using: 0 TPU cores\n",
      "HPU available: False, using: 0 HPUs\n",
      "LOCAL_RANK: 0 - CUDA_VISIBLE_DEVICES: [0,1]\n",
      "\n",
      "  | Name  | Type     | Params | Mode \n",
      "-------------------------------------------\n",
      "0 | model | MLPModel | 26.2 K | train\n",
      "1 | smax  | Softmax  | 0      | train\n",
      "-------------------------------------------\n",
      "26.2 K    Trainable params\n",
      "0         Non-trainable params\n",
      "26.2 K    Total params\n",
      "0.105     Total estimated model params size (MB)\n",
      "13        Modules in train mode\n",
      "0         Modules in eval mode\n"
     ]
    },
    {
     "name": "stdout",
     "output_type": "stream",
     "text": [
      "Epoch 0:  27%|██▋       | 7/26 [00:00<00:00, 57.56it/s, v_num=34]           "
     ]
    },
    {
     "name": "stdout",
     "output_type": "stream",
     "text": [
      "Epoch 999: 100%|██████████| 26/26 [00:00<00:00, 64.55it/s, v_num=34] "
     ]
    },
    {
     "name": "stderr",
     "output_type": "stream",
     "text": [
      "`Trainer.fit` stopped: `max_epochs=1000` reached.\n"
     ]
    },
    {
     "name": "stdout",
     "output_type": "stream",
     "text": [
      "Epoch 999: 100%|██████████| 26/26 [00:00<00:00, 63.36it/s, v_num=34]\n"
     ]
    },
    {
     "ename": "FileNotFoundError",
     "evalue": "[Errno 2] No such file or directory: 'raw/Concrete_Compressive_Strength/all_data.npy'",
     "output_type": "error",
     "traceback": [
      "\u001b[0;31m---------------------------------------------------------------------------\u001b[0m",
      "\u001b[0;31mFileNotFoundError\u001b[0m                         Traceback (most recent call last)",
      "Cell \u001b[0;32mIn[2], line 27\u001b[0m\n\u001b[1;32m     21\u001b[0m \u001b[38;5;66;03m# // model_path is where to save the trained model output (required parameter)\u001b[39;00m\n\u001b[1;32m     22\u001b[0m \n\u001b[1;32m     23\u001b[0m \u001b[38;5;66;03m# Fit against the data\u001b[39;00m\n\u001b[1;32m     24\u001b[0m model\u001b[38;5;241m.\u001b[39mfit(X_train, y_train, X_cal, y_cal, scaler_x, scaler_y)\n\u001b[0;32m---> 27\u001b[0m test_dataset \u001b[38;5;241m=\u001b[39m \u001b[43mCustomDataset\u001b[49m\u001b[43m(\u001b[49m\u001b[38;5;124;43mf\u001b[39;49m\u001b[38;5;124;43m\"\u001b[39;49m\u001b[38;5;124;43mraw/\u001b[39;49m\u001b[38;5;132;43;01m{\u001b[39;49;00m\u001b[43mdataset\u001b[49m\u001b[38;5;132;43;01m}\u001b[39;49;00m\u001b[38;5;124;43m/all_data.npy\u001b[39;49m\u001b[38;5;124;43m\"\u001b[39;49m\u001b[43m,\u001b[49m\u001b[43mmode\u001b[49m\u001b[38;5;241;43m=\u001b[39;49m\u001b[38;5;124;43m\"\u001b[39;49m\u001b[38;5;124;43mtest\u001b[39;49m\u001b[38;5;124;43m\"\u001b[39;49m\u001b[43m)\u001b[49m\n\u001b[1;32m     28\u001b[0m X_test, Y_test \u001b[38;5;241m=\u001b[39m test_dataset\u001b[38;5;241m.\u001b[39mdata_x, test_dataset\u001b[38;5;241m.\u001b[39mdata_y\n\u001b[1;32m     29\u001b[0m \u001b[38;5;66;03m# Analyze the results\u001b[39;00m\n",
      "File \u001b[0;32m/mnt/disk2/batu/max_quantile/data/dataset.py:14\u001b[0m, in \u001b[0;36mCustomDataset.__init__\u001b[0;34m(self, data_path, mode)\u001b[0m\n\u001b[1;32m     10\u001b[0m \u001b[38;5;250m\u001b[39m\u001b[38;5;124;03m'''\u001b[39;00m\n\u001b[1;32m     11\u001b[0m \u001b[38;5;124;03mData is read from a numpy file. The values are already normalized.\u001b[39;00m\n\u001b[1;32m     12\u001b[0m \u001b[38;5;124;03m'''\u001b[39;00m\n\u001b[1;32m     13\u001b[0m \u001b[38;5;28;01massert\u001b[39;00m mode \u001b[38;5;129;01min\u001b[39;00m [\u001b[38;5;124m'\u001b[39m\u001b[38;5;124mtrain\u001b[39m\u001b[38;5;124m'\u001b[39m, \u001b[38;5;124m'\u001b[39m\u001b[38;5;124mtest\u001b[39m\u001b[38;5;124m'\u001b[39m, \u001b[38;5;124m'\u001b[39m\u001b[38;5;124mcal\u001b[39m\u001b[38;5;124m'\u001b[39m]\n\u001b[0;32m---> 14\u001b[0m all_data \u001b[38;5;241m=\u001b[39m \u001b[43mnp\u001b[49m\u001b[38;5;241;43m.\u001b[39;49m\u001b[43mload\u001b[49m\u001b[43m(\u001b[49m\u001b[43mdata_path\u001b[49m\u001b[43m,\u001b[49m\u001b[43m \u001b[49m\u001b[43mallow_pickle\u001b[49m\u001b[38;5;241;43m=\u001b[39;49m\u001b[38;5;28;43;01mTrue\u001b[39;49;00m\u001b[43m)\u001b[49m\u001b[38;5;241m.\u001b[39mitem()\n\u001b[1;32m     15\u001b[0m \u001b[38;5;28mself\u001b[39m\u001b[38;5;241m.\u001b[39mdata_path \u001b[38;5;241m=\u001b[39m data_path\n\u001b[1;32m     16\u001b[0m \u001b[38;5;28mself\u001b[39m\u001b[38;5;241m.\u001b[39mmode \u001b[38;5;241m=\u001b[39m mode        \n",
      "File \u001b[0;32m/opt/anaconda3/envs/max_quantile/lib/python3.12/site-packages/numpy/lib/_npyio_impl.py:455\u001b[0m, in \u001b[0;36mload\u001b[0;34m(file, mmap_mode, allow_pickle, fix_imports, encoding, max_header_size)\u001b[0m\n\u001b[1;32m    453\u001b[0m     own_fid \u001b[38;5;241m=\u001b[39m \u001b[38;5;28;01mFalse\u001b[39;00m\n\u001b[1;32m    454\u001b[0m \u001b[38;5;28;01melse\u001b[39;00m:\n\u001b[0;32m--> 455\u001b[0m     fid \u001b[38;5;241m=\u001b[39m stack\u001b[38;5;241m.\u001b[39menter_context(\u001b[38;5;28;43mopen\u001b[39;49m\u001b[43m(\u001b[49m\u001b[43mos\u001b[49m\u001b[38;5;241;43m.\u001b[39;49m\u001b[43mfspath\u001b[49m\u001b[43m(\u001b[49m\u001b[43mfile\u001b[49m\u001b[43m)\u001b[49m\u001b[43m,\u001b[49m\u001b[43m \u001b[49m\u001b[38;5;124;43m\"\u001b[39;49m\u001b[38;5;124;43mrb\u001b[39;49m\u001b[38;5;124;43m\"\u001b[39;49m\u001b[43m)\u001b[49m)\n\u001b[1;32m    456\u001b[0m     own_fid \u001b[38;5;241m=\u001b[39m \u001b[38;5;28;01mTrue\u001b[39;00m\n\u001b[1;32m    458\u001b[0m \u001b[38;5;66;03m# Code to distinguish from NumPy binary files and pickles.\u001b[39;00m\n",
      "\u001b[0;31mFileNotFoundError\u001b[0m: [Errno 2] No such file or directory: 'raw/Concrete_Compressive_Strength/all_data.npy'"
     ]
    }
   ],
   "source": [
    "# Import the model\n",
    "from R2CCP.main import R2CCP\n",
    "from data.dataset import CustomDataset\n",
    "import numpy as np\n",
    "import os\n",
    "\n",
    "dataset = \"Concrete_Compressive_Strength\"\n",
    "train_dataset = CustomDataset(f\"raw/{dataset}/all_data.npy\",mode=\"train\")\n",
    "X_train, y_train = train_dataset.data_x, train_dataset.data_y\n",
    "scaler_x, scaler_y = train_dataset.scaler_x, train_dataset.scaler_y\n",
    "cal_dataset = CustomDataset(f\"raw/{dataset}/all_data.npy\",mode=\"cal\")\n",
    "X_cal, y_cal = cal_dataset.data_x, cal_dataset.data_y\n",
    "# Instiantiate the model\n",
    "fname = \"logs/R2CCP/model_save_destination.pth\"\n",
    "if os.path.isfile(fname):\n",
    "    os.remove(fname)\n",
    "model = R2CCP({'model_path':'logs/R2CCP/model_save_destination.pth', 'max_epochs':1000,\n",
    "               'optimizer': 'adamw', 'lr':1e-4, 'weight_decay':1e-4,\n",
    "               'ffn_num_layers':4, 'ffn_hidden_dim':100,\n",
    "               'loss_weight':1., 'entropy_weight':0.2})\n",
    "# // model_path is where to save the trained model output (required parameter)\n",
    "\n",
    "# Fit against the data\n",
    "model.fit(X_train, y_train, X_cal, y_cal, scaler_x, scaler_y)\n",
    "\n",
    "\n",
    "test_dataset = CustomDataset(f\"raw/{dataset}/all_data.npy\",mode=\"test\")\n",
    "X_test, Y_test = test_dataset.data_x, test_dataset.data_y\n",
    "# Analyze the results\n",
    "intervals = model.get_intervals(X_test)\n",
    "coverage, length = model.get_coverage_length(X_test, Y_test)\n",
    "print(f\"R2CCP Original Code results - dataset:{dataset}\")\n",
    "print(f\"1-alpha:{0.90:.2f}, Coverage: {np.mean(coverage)}, Length: {np.mean(length)}\")\n",
    "\n",
    "# If you don't have labels, you can just use get_length\n",
    "length = model.get_length(X_test)\n",
    "\n",
    "# Get model predictions\n",
    "predictions = model.predict(X_test)\n",
    "\n",
    "# You can also change the desired coverage level\n",
    "model.set_coverage_level(.5)\n",
    "coverage, length = model.get_coverage_length(X_test, Y_test)\n",
    "print(f\"1-alpha:{0.50:.2f}, Coverage: {np.mean(coverage)}, Length: {np.mean(length)}\")\n",
    "\n",
    "# You can also change the desired coverage level\n",
    "model.set_coverage_level(.1)\n",
    "coverage, length = model.get_coverage_length(X_test, Y_test)\n",
    "print(f\"1-alpha:{0.10:.2f}, Coverage: {np.mean(coverage)}, Length: {np.mean(length)}\")\n"
   ]
  }
 ],
 "metadata": {
  "kernelspec": {
   "display_name": "max_quantile",
   "language": "python",
   "name": "python3"
  },
  "language_info": {
   "codemirror_mode": {
    "name": "ipython",
    "version": 3
   },
   "file_extension": ".py",
   "mimetype": "text/x-python",
   "name": "python",
   "nbconvert_exporter": "python",
   "pygments_lexer": "ipython3",
   "version": "3.12.5"
  }
 },
 "nbformat": 4,
 "nbformat_minor": 2
}
